{
 "cells": [
  {
   "cell_type": "code",
   "execution_count": 2,
   "metadata": {},
   "outputs": [
    {
     "name": "stderr",
     "output_type": "stream",
     "text": [
      "C:\\Users\\User\\AppData\\Local\\Temp\\ipykernel_21400\\1282984739.py:18: SettingWithCopyWarning: \n",
      "A value is trying to be set on a copy of a slice from a DataFrame.\n",
      "Try using .loc[row_indexer,col_indexer] = value instead\n",
      "\n",
      "See the caveats in the documentation: https://pandas.pydata.org/pandas-docs/stable/user_guide/indexing.html#returning-a-view-versus-a-copy\n",
      "  df['Antiguedad'] = date.today().year - df['year']\n",
      "C:\\Users\\User\\AppData\\Local\\Temp\\ipykernel_21400\\1282984739.py:19: SettingWithCopyWarning: \n",
      "A value is trying to be set on a copy of a slice from a DataFrame.\n",
      "Try using .loc[row_indexer,col_indexer] = value instead\n",
      "\n",
      "See the caveats in the documentation: https://pandas.pydata.org/pandas-docs/stable/user_guide/indexing.html#returning-a-view-versus-a-copy\n",
      "  df['Antiguedad'] = df['Antiguedad'].astype(int)\n"
     ]
    }
   ],
   "source": [
    "import pandas as pd \n",
    "import sqlalchemy\n",
    "import missingno as msn \n",
    "import seaborn as sns\n",
    "import matplotlib.pyplot as plt\n",
    "from datetime import date\n",
    "import numpy as np\n",
    "\n",
    "df = pd.read_csv('../../Data/df.csv')\n",
    "#DROP COLUMNS\n",
    "df = df.drop(columns=['adjustSquareMeterPrice', 'automaticACMPrice', 'created_at', 'terraceValue',\n",
    "                       'utilityRoomValue', 'preofferAcmHigherValue','preofferAcmLowerValue','buildingFloors','estateFloors',\n",
    "                       'rentValue','garageType','terraceArea','zone','garageValue', 'type'])\n",
    "def preprocesamiento(df):\n",
    "    #Drop rows with null values in Y variable\n",
    "    df = df[df.finalACMPrice.notna()]\n",
    "    #Calculate Antiguedad of a property in years\n",
    "    df['Antiguedad'] = date.today().year - df['year']\n",
    "    df['Antiguedad'] = df['Antiguedad'].astype(int)\n",
    "    df = df.drop(columns=['id', 'purchaseCaseId', 'year'])\n",
    "    #delete rows with null values in stratum variables\n",
    "    df = df[df.stratum.notna()]\n",
    "    #Turn floor to integer\n",
    "    df = df[df.floor.notna()]\n",
    "    df['floor'] = df['floor'].astype(int)\n",
    "    #df = df[df.stratum.notna()]\n",
    "    # Convert hasElevator to categorical\n",
    "    df['hasElevator'] = df['hasElevator'].astype('category')\n",
    "    return df\n",
    "df = preprocesamiento(df)"
   ]
  },
  {
   "cell_type": "code",
   "execution_count": null,
   "metadata": {},
   "outputs": [],
   "source": []
  }
 ],
 "metadata": {
  "kernelspec": {
   "display_name": "Python 3.9.7 ('base')",
   "language": "python",
   "name": "python3"
  },
  "language_info": {
   "codemirror_mode": {
    "name": "ipython",
    "version": 3
   },
   "file_extension": ".py",
   "mimetype": "text/x-python",
   "name": "python",
   "nbconvert_exporter": "python",
   "pygments_lexer": "ipython3",
   "version": "3.9.7"
  },
  "orig_nbformat": 4,
  "vscode": {
   "interpreter": {
    "hash": "ad2bdc8ecc057115af97d19610ffacc2b4e99fae6737bb82f5d7fb13d2f2c186"
   }
  }
 },
 "nbformat": 4,
 "nbformat_minor": 2
}
