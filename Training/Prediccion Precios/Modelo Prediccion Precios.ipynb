{
  "cells": [
    {
      "cell_type": "markdown",
      "metadata": {},
      "source": [
        "## Importar librerias y cargar datos"
      ]
    },
    {
      "cell_type": "code",
      "execution_count": 10,
      "metadata": {
        "id": "LzBfysqv2BGX"
      },
      "outputs": [
        {
          "name": "stderr",
          "output_type": "stream",
          "text": [
            "C:\\Users\\User\\AppData\\Local\\Temp\\ipykernel_11608\\1282984739.py:18: SettingWithCopyWarning: \n",
            "A value is trying to be set on a copy of a slice from a DataFrame.\n",
            "Try using .loc[row_indexer,col_indexer] = value instead\n",
            "\n",
            "See the caveats in the documentation: https://pandas.pydata.org/pandas-docs/stable/user_guide/indexing.html#returning-a-view-versus-a-copy\n",
            "  df['Antiguedad'] = date.today().year - df['year']\n",
            "C:\\Users\\User\\AppData\\Local\\Temp\\ipykernel_11608\\1282984739.py:19: SettingWithCopyWarning: \n",
            "A value is trying to be set on a copy of a slice from a DataFrame.\n",
            "Try using .loc[row_indexer,col_indexer] = value instead\n",
            "\n",
            "See the caveats in the documentation: https://pandas.pydata.org/pandas-docs/stable/user_guide/indexing.html#returning-a-view-versus-a-copy\n",
            "  df['Antiguedad'] = df['Antiguedad'].astype(int)\n"
          ]
        }
      ],
      "source": [
        "import pandas as pd \n",
        "import sqlalchemy\n",
        "import missingno as msn \n",
        "import seaborn as sns\n",
        "import matplotlib.pyplot as plt\n",
        "from datetime import date\n",
        "import numpy as np\n",
        "\n",
        "df = pd.read_csv('../../Data/df.csv')\n",
        "#DROP COLUMNS\n",
        "df = df.drop(columns=['adjustSquareMeterPrice', 'automaticACMPrice', 'created_at', 'terraceValue',\n",
        "                       'utilityRoomValue', 'preofferAcmHigherValue','preofferAcmLowerValue','buildingFloors','estateFloors',\n",
        "                       'rentValue','garageType','terraceArea','zone','garageValue', 'type'])\n",
        "def preprocesamiento(df):\n",
        "    #Drop rows with null values in Y variable\n",
        "    df = df[df.finalACMPrice.notna()]\n",
        "    #Calculate Antiguedad of a property in years\n",
        "    df['Antiguedad'] = date.today().year - df['year']\n",
        "    df['Antiguedad'] = df['Antiguedad'].astype(int)\n",
        "    df = df.drop(columns=['id', 'purchaseCaseId', 'year'])\n",
        "    #delete rows with null values in stratum variables\n",
        "    df = df[df.stratum.notna()]\n",
        "    #Turn floor to integer\n",
        "    df = df[df.floor.notna()]\n",
        "    df['floor'] = df['floor'].astype(int)\n",
        "    #df = df[df.stratum.notna()]\n",
        "    # Convert hasElevator to categorical\n",
        "    df['hasElevator'] = df['hasElevator'].astype('category')\n",
        "    return df\n",
        "df = preprocesamiento(df)"
      ]
    },
    {
      "cell_type": "markdown",
      "metadata": {},
      "source": [
        "## Definir variables X y Y"
      ]
    },
    {
      "cell_type": "code",
      "execution_count": 11,
      "metadata": {},
      "outputs": [],
      "source": [
        "X = df.drop(columns=['finalACMPrice'])\n",
        "y = df['finalACMPrice']"
      ]
    },
    {
      "cell_type": "code",
      "execution_count": 12,
      "metadata": {},
      "outputs": [],
      "source": [
        "#Split data into train and test\n",
        "from sklearn.model_selection import train_test_split\n",
        "X_train, X_test, y_train, y_test = train_test_split(X, y, test_size=0.2, random_state=42)"
      ]
    },
    {
      "cell_type": "code",
      "execution_count": 13,
      "metadata": {},
      "outputs": [
        {
          "data": {
            "text/plain": [
              "LGBMRegressor(learning_rate=0.01, n_estimators=258, random_state=42)"
            ]
          },
          "execution_count": 13,
          "metadata": {},
          "output_type": "execute_result"
        }
      ],
      "source": [
        "#Train LightGBMRegresor model\n",
        "from lightgbm import LGBMRegressor\n",
        "from sklearn.metrics import mean_absolute_error\n",
        "\n",
        "#Fit model\n",
        "lgbm = LGBMRegressor(n_estimators=258, learning_rate=0.01, random_state=42)\n",
        "lgbm.fit(X_train, y_train)"
      ]
    },
    {
      "cell_type": "code",
      "execution_count": 14,
      "metadata": {},
      "outputs": [
        {
          "name": "stdout",
          "output_type": "stream",
          "text": [
            "MAE Kmeans: $28,240,646.73\n"
          ]
        }
      ],
      "source": [
        "#Predict\n",
        "y_pred = lgbm.predict(X_test)\n",
        "#Evaluate\n",
        "mae_kmeans = mean_absolute_error(y_test, y_pred)\n",
        "\n",
        "#Print results in currency format\n",
        "print('MAE Kmeans: ${:,.2f}'.format(mae_kmeans))"
      ]
    }
  ],
  "metadata": {
    "colab": {
      "provenance": []
    },
    "kernelspec": {
      "display_name": "Python 3.9.7 ('base')",
      "language": "python",
      "name": "python3"
    },
    "language_info": {
      "codemirror_mode": {
        "name": "ipython",
        "version": 3
      },
      "file_extension": ".py",
      "mimetype": "text/x-python",
      "name": "python",
      "nbconvert_exporter": "python",
      "pygments_lexer": "ipython3",
      "version": "3.9.7"
    },
    "vscode": {
      "interpreter": {
        "hash": "ad2bdc8ecc057115af97d19610ffacc2b4e99fae6737bb82f5d7fb13d2f2c186"
      }
    }
  },
  "nbformat": 4,
  "nbformat_minor": 0
}
